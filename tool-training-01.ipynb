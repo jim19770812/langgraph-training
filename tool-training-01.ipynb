{
 "cells": [
  {
   "cell_type": "markdown",
   "metadata": {},
   "source": [
    "# @tool\n",
    "tool实际就是一个函数的包装器，在节点里执行instance.run就可以\n",
    "\n",
    "1.llm通过tool于外部世界获取数据\n",
    "2.tool的名字，docstring和json schema都会被llm作为提示词来理解如何正确的执行和调用tool方法，因此清晰准确的描述如何使用该工具非常重要，如果docstring不足以清晰的描述tool的用法，就需要通过json schema来定义了。\n",
    "3.大部分的tool都有一个字符串的入参，也支持更复杂的入参\n",
    "4.从BaseTool继承的tool的例子可以参考 from langchain_community.tools import WikipediaQueryRun\n",
    "class WikipediaQueryRun(BaseTool):\n",
    "    \"\"\"Tool that searches the Wikipedia API.\"\"\"\n",
    "\n",
    "    name: str = \"wikipedia\"             #名字，tool.name\n",
    "    description: str = (                #描述，too.description\n",
    "        \"A wrapper around Wikipedia. \"\n",
    "        \"Useful for when you need to answer general questions about \"\n",
    "        \"people, places, companies, facts, historical events, or other subjects. \"\n",
    "        \"Input should be a search query.\"\n",
    "    )\n",
    "    api_wrapper: WikipediaAPIWrapper\n",
    "\n",
    "    def _run(                        #run方法，tool.run(\"字符串参数\")\n",
    "        self,\n",
    "        query: str,\n",
    "        run_manager: Optional[CallbackManagerForToolRun] = None,\n",
    "    ) -> str:\n",
    "        \"\"\"Use the Wikipedia tool.\"\"\"\n",
    "        return self.api_wrapper.run(query)\n",
    "\n",
    "这个例子中有价值的信息有\n"
   ]
  },
  {
   "cell_type": "code",
   "execution_count": 9,
   "metadata": {},
   "outputs": [
    {
     "ename": "TypeError",
     "evalue": "'RunnableSequence' object is not callable",
     "output_type": "error",
     "traceback": [
      "\u001b[0;31m---------------------------------------------------------------------------\u001b[0m",
      "\u001b[0;31mTypeError\u001b[0m                                 Traceback (most recent call last)",
      "\u001b[1;32m/data/work/llm/langgraph-training/tool-training-01.ipynb 单元格 2\u001b[0m line \u001b[0;36m2\n\u001b[1;32m     <a href='vscode-notebook-cell:/data/work/llm/langgraph-training/tool-training-01.ipynb#W4sZmlsZQ%3D%3D?line=24'>25</a>\u001b[0m prompt\u001b[39m.\u001b[39mname\u001b[39m=\u001b[39m\u001b[39m\"\u001b[39m\u001b[39mprompt1\u001b[39m\u001b[39m\"\u001b[39m\n\u001b[1;32m     <a href='vscode-notebook-cell:/data/work/llm/langgraph-training/tool-training-01.ipynb#W4sZmlsZQ%3D%3D?line=25'>26</a>\u001b[0m chain \u001b[39m=\u001b[39m prompt \u001b[39m|\u001b[39m model\n\u001b[0;32m---> <a href='vscode-notebook-cell:/data/work/llm/langgraph-training/tool-training-01.ipynb#W4sZmlsZQ%3D%3D?line=26'>27</a>\u001b[0m ret\u001b[39m=\u001b[39mchain(\u001b[39m\"\u001b[39;49m\u001b[39mtest\u001b[39;49m\u001b[39m\"\u001b[39;49m)\n\u001b[1;32m     <a href='vscode-notebook-cell:/data/work/llm/langgraph-training/tool-training-01.ipynb#W4sZmlsZQ%3D%3D?line=27'>28</a>\u001b[0m \u001b[39mprint\u001b[39m(ret)\n\u001b[1;32m     <a href='vscode-notebook-cell:/data/work/llm/langgraph-training/tool-training-01.ipynb#W4sZmlsZQ%3D%3D?line=30'>31</a>\u001b[0m \u001b[39m# model=Ollama(model=\"gemma:7b\", temperature=0.3)\u001b[39;00m\n\u001b[1;32m     <a href='vscode-notebook-cell:/data/work/llm/langgraph-training/tool-training-01.ipynb#W4sZmlsZQ%3D%3D?line=31'>32</a>\u001b[0m \u001b[39m# model.bind_tools([search])\u001b[39;00m\n",
      "\u001b[0;31mTypeError\u001b[0m: 'RunnableSequence' object is not callable"
     ]
    }
   ],
   "source": [
    "from langchain.agents import tool\n",
    "from langchain_community.llms import Ollama\n",
    "from typing import List, Union\n",
    "\n",
    "from langgraph.graph import END, MessageGraph\n",
    "from langgraph.graph.graph import CompiledGraph\n",
    "from langgraph.graph.state import CompiledStateGraph\n",
    "from langchain_community.llms import Ollama\n",
    "from langchain_core.messages import HumanMessage, BaseMessage, AIMessage\n",
    "from langchain_core.prompts import ChatPromptTemplate, MessagesPlaceholder\n",
    "\n",
    "# 添加tool装饰器\n",
    "@tool\n",
    "def get_magic_number(query: str) -> int:\n",
    "    \"\"\"\n",
    "    获取一个魔法数字，返回值就是得到的魔法数字\n",
    "    \"\"\"\n",
    "    return 42\n",
    "\n",
    "# 使用tool\n",
    "model=Ollama(model=\"gemma:7b\", temperature=0.3)\n",
    "prompt = ChatPromptTemplate.from_messages([\n",
    "    (\"system\", \"从语句中提取动词，要求返回中文，并且不要带标点符号\"),\n",
    "    MessagesPlaceholder(variable_name=\"name\")])\n",
    "prompt.name=\"prompt1\"\n",
    "chain = prompt | model\n",
    "ret=chain(\"test\")\n",
    "print(ret)\n",
    "\n",
    "\n",
    "# model=Ollama(model=\"gemma:7b\", temperature=0.3)\n",
    "# model.bind_tools([search])\n"
   ]
  },
  {
   "cell_type": "code",
   "execution_count": null,
   "metadata": {},
   "outputs": [],
   "source": []
  },
  {
   "cell_type": "code",
   "execution_count": 1,
   "metadata": {},
   "outputs": [
    {
     "name": "stdout",
     "output_type": "stream",
     "text": [
      "eat and play\n"
     ]
    },
    {
     "ename": "AttributeError",
     "evalue": "'Ollama' object has no attribute 'bind_tools'",
     "output_type": "error",
     "traceback": [
      "\u001b[0;31m---------------------------------------------------------------------------\u001b[0m",
      "\u001b[0;31mAttributeError\u001b[0m                            Traceback (most recent call last)",
      "\u001b[1;32m/data/work/llm/langgraph-training/tool-training-01.ipynb 单元格 2\u001b[0m line \u001b[0;36m1\n\u001b[1;32m     <a href='vscode-notebook-cell:/data/work/llm/langgraph-training/tool-training-01.ipynb#W1sZmlsZQ%3D%3D?line=13'>14</a>\u001b[0m \u001b[39mprint\u001b[39m(ret)\n\u001b[1;32m     <a href='vscode-notebook-cell:/data/work/llm/langgraph-training/tool-training-01.ipynb#W1sZmlsZQ%3D%3D?line=15'>16</a>\u001b[0m model\u001b[39m=\u001b[39mOllama(model\u001b[39m=\u001b[39m\u001b[39m\"\u001b[39m\u001b[39mgemma:7b\u001b[39m\u001b[39m\"\u001b[39m, temperature\u001b[39m=\u001b[39m\u001b[39m0.3\u001b[39m)\n\u001b[0;32m---> <a href='vscode-notebook-cell:/data/work/llm/langgraph-training/tool-training-01.ipynb#W1sZmlsZQ%3D%3D?line=16'>17</a>\u001b[0m model\u001b[39m.\u001b[39;49mbind_tools([search])\n",
      "\u001b[0;31mAttributeError\u001b[0m: 'Ollama' object has no attribute 'bind_tools'"
     ]
    }
   ],
   "source": [
    "from langchain.agents import tool\n",
    "from langchain_community.llms import Ollama\n",
    "\n",
    "# 添加tool装饰器\n",
    "@tool\n",
    "def search(query: str) -> str:\n",
    "    \"\"\"\n",
    "    这里可以添加实际的搜索逻辑，例如调用搜索引擎的API\n",
    "    \"\"\"\n",
    "    return \"eat and play\"\n",
    "\n",
    "# 使用tool\n",
    "ret=search.run(\"What is the meaning of life?\")\n",
    "print(ret)\n",
    "\n",
    "# model=Ollama(model=\"gemma:7b\", temperature=0.3)\n",
    "# model.bind_tools([search])\n"
   ]
  },
  {
   "cell_type": "markdown",
   "metadata": {},
   "source": [
    "# tool"
   ]
  },
  {
   "cell_type": "code",
   "execution_count": null,
   "metadata": {},
   "outputs": [],
   "source": [
    "from langchain_community.llms import Ollama\n",
    "from langchain_core.messages import HumanMessage\n",
    "from langchain_core.prompts import ChatPromptTemplate, MessagesPlaceholder\n",
    "\n",
    "model=Ollama(model=\"gemma:7b\", temperature=0.3)\n",
    "\n",
    "@tool\n",
    "def get_magic_number(val:str)->int:\n",
    "    return 42\n"
   ]
  }
 ],
 "metadata": {
  "kernelspec": {
   "display_name": ".venv",
   "language": "python",
   "name": "python3"
  },
  "language_info": {
   "codemirror_mode": {
    "name": "ipython",
    "version": 3
   },
   "file_extension": ".py",
   "mimetype": "text/x-python",
   "name": "python",
   "nbconvert_exporter": "python",
   "pygments_lexer": "ipython3",
   "version": "3.12.3"
  }
 },
 "nbformat": 4,
 "nbformat_minor": 2
}
